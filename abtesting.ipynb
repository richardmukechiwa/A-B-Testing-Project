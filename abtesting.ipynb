{
 "cells": [
  {
   "cell_type": "markdown",
   "id": "b661a4cb-0e73-4906-be52-967598fd0762",
   "metadata": {},
   "source": [
    "# **A/B TESTING**"
   ]
  },
  {
   "cell_type": "code",
   "execution_count": 249,
   "id": "c1c082d9-4bf5-450a-9e3f-50e03ef4e379",
   "metadata": {},
   "outputs": [],
   "source": [
    "#import libraries\n",
    "import pandas as pd\n",
    "import matplotlib.pyplot as plt\n",
    "import seaborn as sns\n",
    "import warnings\n",
    "warnings.filterwarnings(action = 'ignore')"
   ]
  },
  {
   "cell_type": "markdown",
   "id": "15462db3-40e5-446c-a36d-ad5768b5e9b3",
   "metadata": {},
   "source": [
    "## **Load Data**"
   ]
  },
  {
   "cell_type": "code",
   "execution_count": 251,
   "id": "babb8bfc-cea2-4d3e-adda-12b7a0502706",
   "metadata": {},
   "outputs": [
    {
     "name": "stdout",
     "output_type": "stream",
     "text": [
      "(90189, 5)\n"
     ]
    },
    {
     "data": {
      "text/html": [
       "<div>\n",
       "<style scoped>\n",
       "    .dataframe tbody tr th:only-of-type {\n",
       "        vertical-align: middle;\n",
       "    }\n",
       "\n",
       "    .dataframe tbody tr th {\n",
       "        vertical-align: top;\n",
       "    }\n",
       "\n",
       "    .dataframe thead th {\n",
       "        text-align: right;\n",
       "    }\n",
       "</style>\n",
       "<table border=\"1\" class=\"dataframe\">\n",
       "  <thead>\n",
       "    <tr style=\"text-align: right;\">\n",
       "      <th></th>\n",
       "      <th>userid</th>\n",
       "      <th>version</th>\n",
       "      <th>sum_gamerounds</th>\n",
       "      <th>retention_1</th>\n",
       "      <th>retention_7</th>\n",
       "    </tr>\n",
       "  </thead>\n",
       "  <tbody>\n",
       "    <tr>\n",
       "      <th>0</th>\n",
       "      <td>116</td>\n",
       "      <td>gate_30</td>\n",
       "      <td>3</td>\n",
       "      <td>False</td>\n",
       "      <td>False</td>\n",
       "    </tr>\n",
       "    <tr>\n",
       "      <th>1</th>\n",
       "      <td>337</td>\n",
       "      <td>gate_30</td>\n",
       "      <td>38</td>\n",
       "      <td>True</td>\n",
       "      <td>False</td>\n",
       "    </tr>\n",
       "    <tr>\n",
       "      <th>2</th>\n",
       "      <td>377</td>\n",
       "      <td>gate_40</td>\n",
       "      <td>165</td>\n",
       "      <td>True</td>\n",
       "      <td>False</td>\n",
       "    </tr>\n",
       "    <tr>\n",
       "      <th>3</th>\n",
       "      <td>483</td>\n",
       "      <td>gate_40</td>\n",
       "      <td>1</td>\n",
       "      <td>False</td>\n",
       "      <td>False</td>\n",
       "    </tr>\n",
       "    <tr>\n",
       "      <th>4</th>\n",
       "      <td>488</td>\n",
       "      <td>gate_40</td>\n",
       "      <td>179</td>\n",
       "      <td>True</td>\n",
       "      <td>True</td>\n",
       "    </tr>\n",
       "  </tbody>\n",
       "</table>\n",
       "</div>"
      ],
      "text/plain": [
       "   userid  version  sum_gamerounds  retention_1  retention_7\n",
       "0     116  gate_30               3        False        False\n",
       "1     337  gate_30              38         True        False\n",
       "2     377  gate_40             165         True        False\n",
       "3     483  gate_40               1        False        False\n",
       "4     488  gate_40             179         True         True"
      ]
     },
     "execution_count": 251,
     "metadata": {},
     "output_type": "execute_result"
    }
   ],
   "source": [
    "df = pd.read_csv('cookie_cats.csv')\n",
    "print(df.shape) # check rows and columns\n",
    "df.head()"
   ]
  },
  {
   "cell_type": "markdown",
   "id": "f686c6f2-1f14-4e53-a90a-7f6fdffcdde1",
   "metadata": {},
   "source": [
    "## **Data Preparation**"
   ]
  },
  {
   "cell_type": "code",
   "execution_count": 253,
   "id": "348adb9d-a471-4337-9be0-d17f21434c5e",
   "metadata": {},
   "outputs": [
    {
     "data": {
      "text/plain": [
       "userid            0\n",
       "version           0\n",
       "sum_gamerounds    0\n",
       "retention_1       0\n",
       "retention_7       0\n",
       "dtype: int64"
      ]
     },
     "execution_count": 253,
     "metadata": {},
     "output_type": "execute_result"
    }
   ],
   "source": [
    "#checking missing values\n",
    "df.isna().sum()"
   ]
  },
  {
   "cell_type": "code",
   "execution_count": 254,
   "id": "8b5175bb-d199-4800-84ec-a700c0215a25",
   "metadata": {},
   "outputs": [
    {
     "data": {
      "text/html": [
       "<div>\n",
       "<style scoped>\n",
       "    .dataframe tbody tr th:only-of-type {\n",
       "        vertical-align: middle;\n",
       "    }\n",
       "\n",
       "    .dataframe tbody tr th {\n",
       "        vertical-align: top;\n",
       "    }\n",
       "\n",
       "    .dataframe thead th {\n",
       "        text-align: right;\n",
       "    }\n",
       "</style>\n",
       "<table border=\"1\" class=\"dataframe\">\n",
       "  <thead>\n",
       "    <tr style=\"text-align: right;\">\n",
       "      <th></th>\n",
       "      <th>userid</th>\n",
       "      <th>version</th>\n",
       "      <th>sum_gamerounds</th>\n",
       "      <th>retention_1</th>\n",
       "      <th>retention_7</th>\n",
       "    </tr>\n",
       "  </thead>\n",
       "  <tbody>\n",
       "    <tr>\n",
       "      <th>0</th>\n",
       "      <td>116</td>\n",
       "      <td>gate_30</td>\n",
       "      <td>3</td>\n",
       "      <td>0</td>\n",
       "      <td>0</td>\n",
       "    </tr>\n",
       "    <tr>\n",
       "      <th>1</th>\n",
       "      <td>337</td>\n",
       "      <td>gate_30</td>\n",
       "      <td>38</td>\n",
       "      <td>1</td>\n",
       "      <td>0</td>\n",
       "    </tr>\n",
       "    <tr>\n",
       "      <th>2</th>\n",
       "      <td>377</td>\n",
       "      <td>gate_40</td>\n",
       "      <td>165</td>\n",
       "      <td>1</td>\n",
       "      <td>0</td>\n",
       "    </tr>\n",
       "    <tr>\n",
       "      <th>3</th>\n",
       "      <td>483</td>\n",
       "      <td>gate_40</td>\n",
       "      <td>1</td>\n",
       "      <td>0</td>\n",
       "      <td>0</td>\n",
       "    </tr>\n",
       "    <tr>\n",
       "      <th>4</th>\n",
       "      <td>488</td>\n",
       "      <td>gate_40</td>\n",
       "      <td>179</td>\n",
       "      <td>1</td>\n",
       "      <td>1</td>\n",
       "    </tr>\n",
       "  </tbody>\n",
       "</table>\n",
       "</div>"
      ],
      "text/plain": [
       "   userid  version  sum_gamerounds  retention_1  retention_7\n",
       "0     116  gate_30               3            0            0\n",
       "1     337  gate_30              38            1            0\n",
       "2     377  gate_40             165            1            0\n",
       "3     483  gate_40               1            0            0\n",
       "4     488  gate_40             179            1            1"
      ]
     },
     "execution_count": 254,
     "metadata": {},
     "output_type": "execute_result"
    }
   ],
   "source": [
    "#get dummies\n",
    "df[['retention_1', 'retention_7']] = df[['retention_1', 'retention_7']].astype(int)\n",
    "df.head()"
   ]
  },
  {
   "cell_type": "markdown",
   "id": "a2c2c78c-6d06-486b-bb24-726517a3c88e",
   "metadata": {},
   "source": [
    "## ***Data grouping***"
   ]
  },
  {
   "cell_type": "markdown",
   "id": "6b3ef3d9-ca32-4203-a67b-0318269b7c1a",
   "metadata": {},
   "source": [
    "Control_group = gate_30\n",
    "\n",
    "Treatment_group = gate_40"
   ]
  },
  {
   "cell_type": "markdown",
   "id": "40a14876-62e1-46b2-9240-ea0dad2b322b",
   "metadata": {},
   "source": [
    "## ***Metrics***"
   ]
  },
  {
   "cell_type": "markdown",
   "id": "fe502966-a6d8-41cb-bbb2-607e88c9b11a",
   "metadata": {},
   "source": [
    "success of retention and sum of gamerounds"
   ]
  },
  {
   "cell_type": "markdown",
   "id": "183c673f-8afa-4633-b50e-1119d12e5983",
   "metadata": {},
   "source": [
    "## **Exploratory Data Analysis**"
   ]
  },
  {
   "cell_type": "code",
   "execution_count": 260,
   "id": "603c311f-fa15-4505-93fa-83a85c298e3b",
   "metadata": {},
   "outputs": [
    {
     "data": {
      "text/plain": [
       "count    90189.000000\n",
       "mean        51.872457\n",
       "std        195.050858\n",
       "min          0.000000\n",
       "25%          5.000000\n",
       "50%         16.000000\n",
       "75%         51.000000\n",
       "max      49854.000000\n",
       "Name: sum_gamerounds, dtype: float64"
      ]
     },
     "execution_count": 260,
     "metadata": {},
     "output_type": "execute_result"
    }
   ],
   "source": [
    "#descriptive statistics\n",
    "df['sum_gamerounds'].describe()"
   ]
  },
  {
   "cell_type": "code",
   "execution_count": 261,
   "id": "5e4f4bbf-0aee-49db-8eba-55292922be3e",
   "metadata": {
    "scrolled": true
   },
   "outputs": [
    {
     "data": {
      "image/png": "[encoded data removed]",
      "text/plain": [
       "<Figure size 640x480 with 1 Axes>"
      ]
     },
     "metadata": {},
     "output_type": "display_data"
    }
   ],
   "source": [
    "#checking outliers\n",
    "sns.boxplot(data = df, x = 'sum_gamerounds', hue = 'version');"
   ]
  },
  {
   "cell_type": "code",
   "execution_count": 262,
   "id": "86103f73-1755-46dc-90bc-d73c801bef9e",
   "metadata": {},
   "outputs": [],
   "source": [
    "#removing the outlier\n",
    "df1 = df[df['sum_gamerounds'] < 600]\n",
    "\n"
   ]
  },
  {
   "cell_type": "code",
   "execution_count": 263,
   "id": "5628a9d6-ec77-4bc3-bee8-d5f101d0486a",
   "metadata": {},
   "outputs": [
    {
     "data": {
      "text/plain": [
       "<Axes: xlabel='version'>"
      ]
     },
     "execution_count": 263,
     "metadata": {},
     "output_type": "execute_result"
    },
    {
     "data": {
      "image/png": "[encoded data removed]",
      "text/plain": [
       "<Figure size 640x480 with 1 Axes>"
      ]
     },
     "metadata": {},
     "output_type": "display_data"
    }
   ],
   "source": [
    "df1.groupby('version')[['retention_1', 'retention_7']].sum().plot(kind = 'bar')"
   ]
  },
  {
   "cell_type": "code",
   "execution_count": 264,
   "id": "ef0bfd5c-6446-4262-90c4-e921d1618b94",
   "metadata": {},
   "outputs": [
    {
     "data": {
      "image/png": "[encoded data removed]",
      "text/plain": [
       "<Figure size 640x480 with 1 Axes>"
      ]
     },
     "metadata": {},
     "output_type": "display_data"
    }
   ],
   "source": [
    "df1.groupby('version')['sum_gamerounds'].mean().plot(kind = 'bar', color = 'C5')\n",
    "plt.ylabel('Mean Game Play')\n",
    "plt.title('Average Gameplays by Version');"
   ]
  },
  {
   "cell_type": "code",
   "execution_count": 265,
   "id": "e73c7788-80e1-4a1f-90f7-d92f2c7540bd",
   "metadata": {},
   "outputs": [
    {
     "data": {
      "text/plain": [
       "39655"
      ]
     },
     "execution_count": 265,
     "metadata": {},
     "output_type": "execute_result"
    }
   ],
   "source": [
    "# calculating retention for day 1\n",
    "df1[df1['retention_1'] == 1]['retention_1'].sum()"
   ]
  },
  {
   "cell_type": "code",
   "execution_count": 266,
   "id": "85137cf9-30b5-4f86-8c3d-817786a4d63a",
   "metadata": {},
   "outputs": [
    {
     "data": {
      "text/plain": [
       "16286"
      ]
     },
     "execution_count": 266,
     "metadata": {},
     "output_type": "execute_result"
    }
   ],
   "source": [
    "#calculating retention for day 7\n",
    "df1[df1['retention_7']== 1]['retention_7'].sum()"
   ]
  },
  {
   "cell_type": "markdown",
   "id": "d7c60b54-ebf4-4b88-be84-44cf7f83099f",
   "metadata": {},
   "source": [
    "## **Hypothesis**"
   ]
  },
  {
   "cell_type": "markdown",
   "id": "17b3b90a-262c-4928-bded-f371a6dd943f",
   "metadata": {},
   "source": [
    "**Day 1**\n",
    "\n",
    "Null Hypothesis = _There is no difference in retention between gate_30 and gate_40 on day 1_\n",
    "\n",
    "Alternate Hypothesis = _Players using gate_40 with have higher retention than those using gate_30 on day 1_\n",
    "\n",
    "\n",
    "**Day 7**\n",
    "\n",
    "Null Hypothesis = _There is no difference in retention between gate_30 and gate_40 on day 7_\n",
    "\n",
    "Alternate Hypothesis = _Players using gate_40 with have higher retention than those using gate_30 on day 7_\n",
    "\n",
    "**Game Play Hypothesis**\n",
    "\n",
    "Null Hypothesis = _The sum of gamerounds for gate_30 is equal to sum of gamerounds for gate_40_\n",
    "\n",
    "Altenative Hypothesis = _The is a difference in the sum of gamerounds  between gate_30 and gate_40_ \n",
    "\n",
    "\n"
   ]
  },
  {
   "cell_type": "code",
   "execution_count": 269,
   "id": "a984e8ce-977d-4e86-aa1c-269d996059ee",
   "metadata": {},
   "outputs": [
    {
     "name": "stdout",
     "output_type": "stream",
     "text": [
      "retention_1      0      1\n",
      "version                  \n",
      "gate_30      24656  19796\n",
      "gate_40      25364  19859\n",
      "\n",
      "retention_7      0     1\n",
      "version                 \n",
      "gate_30      36186  8266\n",
      "gate_40      37203  8020\n",
      "\n"
     ]
    }
   ],
   "source": [
    "#retention1  and retention7 , gameplay values \n",
    "ret1_values = pd.crosstab(df1['version'], df1['retention_1'] )\n",
    "print(ret1_values)\n",
    "print()\n",
    "ret7_values = pd.crosstab(df1['version'], df1['retention_7'] )\n",
    "print(ret7_values)\n",
    "print()\n"
   ]
  },
  {
   "cell_type": "markdown",
   "id": "bd6ccd84-41b3-47ab-a45b-f8db55bb02f5",
   "metadata": {},
   "source": [
    "## **Testing**"
   ]
  },
  {
   "cell_type": "code",
   "execution_count": 271,
   "id": "f54f74a0-2140-4908-bb78-1f0fd8e2681c",
   "metadata": {},
   "outputs": [],
   "source": [
    "#import chi-square \n",
    "from scipy.stats import chi2_contingency\n"
   ]
  },
  {
   "cell_type": "code",
   "execution_count": 272,
   "id": "77711be6-495a-47d6-beaa-a470f29f458e",
   "metadata": {},
   "outputs": [
    {
     "name": "stdout",
     "output_type": "stream",
     "text": [
      "3.492780472746793 0.061636979146010906\n"
     ]
    }
   ],
   "source": [
    "#Retention 1 test\n",
    "chi2_statistic, p_value, dof, expected_values = chi2_contingency(observed  = ret1_values, correction = False)\n",
    "print(chi2_statistic, p_value)"
   ]
  },
  {
   "cell_type": "code",
   "execution_count": 273,
   "id": "fb782f8a-1257-407e-974c-96277935d49b",
   "metadata": {},
   "outputs": [
    {
     "name": "stdout",
     "output_type": "stream",
     "text": [
      "11.181061446498568 0.0008263648395142043\n"
     ]
    }
   ],
   "source": [
    "# Retention 7 test\n",
    "chi2_statistic, p_value, dof, expected_values = chi2_contingency(observed  = ret7_values, correction = False)\n",
    "print(chi2_statistic, p_value)"
   ]
  },
  {
   "cell_type": "code",
   "execution_count": 274,
   "id": "cbbc9d50-7b77-40fa-bcd0-d0e688030124",
   "metadata": {},
   "outputs": [],
   "source": [
    "#import ttest\n",
    "import scipy.stats as stats\n",
    "\n",
    "# grouping data\n",
    "gate_30 = df1[df1['version']=='gate_30'][['sum_gamerounds']]\n",
    "gate_40 = df1[df1['version']=='gate_40'][['sum_gamerounds']]"
   ]
  },
  {
   "cell_type": "code",
   "execution_count": 275,
   "id": "b6df8989-5d88-41c6-987e-53e45e69ddca",
   "metadata": {},
   "outputs": [
    {
     "name": "stdout",
     "output_type": "stream",
     "text": [
      "[0.83190862] [0.40546274]\n"
     ]
    }
   ],
   "source": [
    "# gameplay test\n",
    "t_statistic, p_value  = stats.ttest_ind(a = gate_30 , b = gate_40, random_state = 42, equal_var= True)\n",
    "print(t_statistic, p_value )"
   ]
  },
  {
   "cell_type": "code",
   "execution_count": null,
   "id": "8f7a7ad7-ddee-41a0-9fcd-09e6193c6c37",
   "metadata": {},
   "outputs": [],
   "source": []
  }
 ],
 "metadata": {
  "kernelspec": {
   "display_name": "Python 3 (ipykernel)",
   "language": "python",
   "name": "python3"
  },
  "language_info": {
   "codemirror_mode": {
    "name": "ipython",
    "version": 3
   },
   "file_extension": ".py",
   "mimetype": "text/x-python",
   "name": "python",
   "nbconvert_exporter": "python",
   "pygments_lexer": "ipython3",
   "version": "3.11.9"
  }
 },
 "nbformat": 4,
 "nbformat_minor": 5
}
